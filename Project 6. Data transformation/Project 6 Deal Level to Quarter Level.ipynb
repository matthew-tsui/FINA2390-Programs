{
 "cells": [
  {
   "cell_type": "code",
   "execution_count": 3,
   "metadata": {
    "collapsed": true
   },
   "outputs": [],
   "source": [
    "import pandas as pd\n",
    "\n",
    "\n",
    "df_deal = pd.DataFrame.from_csv('deal_level_data.csv')\n",
    "df_new = pd.DataFrame(data=None, columns=df_deal.columns)"
   ]
  },
  {
   "cell_type": "code",
   "execution_count": 4,
   "metadata": {},
   "outputs": [
    {
     "data": {
      "text/html": [
       "<div>\n",
       "<style>\n",
       "    .dataframe thead tr:only-child th {\n",
       "        text-align: right;\n",
       "    }\n",
       "\n",
       "    .dataframe thead th {\n",
       "        text-align: left;\n",
       "    }\n",
       "\n",
       "    .dataframe tbody tr th {\n",
       "        vertical-align: top;\n",
       "    }\n",
       "</style>\n",
       "<table border=\"1\" class=\"dataframe\">\n",
       "  <thead>\n",
       "    <tr style=\"text-align: right;\">\n",
       "      <th></th>\n",
       "      <th>Date_Announced</th>\n",
       "      <th>Year_Announced</th>\n",
       "      <th>Acquirer_Name_clean</th>\n",
       "      <th>Acquirer_Primary_SIC</th>\n",
       "      <th>Acquirer_State_abbr</th>\n",
       "      <th>Acquirer_CUSIP</th>\n",
       "      <th>Acquirer_Ticker</th>\n",
       "      <th>Target_Name_clean</th>\n",
       "      <th>Target_Primary_SIC</th>\n",
       "      <th>Target_State_abbr</th>\n",
       "      <th>...</th>\n",
       "      <th>Com_TtlSalary_log_chg12</th>\n",
       "      <th>Tar_AvgSalary_log_avg__12</th>\n",
       "      <th>Tar_AvgSalary_log_avg_12</th>\n",
       "      <th>Tar_AvgSalary_log_chg12</th>\n",
       "      <th>Tar_EmployNum_log_avg__12</th>\n",
       "      <th>Tar_EmployNum_log_avg_12</th>\n",
       "      <th>Tar_EmployNum_log_chg12</th>\n",
       "      <th>Tar_TtlSalary_log_avg__12</th>\n",
       "      <th>Tar_TtlSalary_log_avg_12</th>\n",
       "      <th>Tar_TtlSalary_log_chg12</th>\n",
       "    </tr>\n",
       "  </thead>\n",
       "  <tbody>\n",
       "  </tbody>\n",
       "</table>\n",
       "<p>0 rows × 1466 columns</p>\n",
       "</div>"
      ],
      "text/plain": [
       "Empty DataFrame\n",
       "Columns: [Date_Announced, Year_Announced, Acquirer_Name_clean, Acquirer_Primary_SIC, Acquirer_State_abbr, Acquirer_CUSIP, Acquirer_Ticker, Target_Name_clean, Target_Primary_SIC, Target_State_abbr, Target_CUSIP, Target_Ticker, Attitude, quarter, quarter__1, quarter__2, quarter__3, quarter__4, quarter__5, quarter__6, quarter__7, quarter__8, quarter__9, quarter__10, quarter__11, quarter__12, quarter_1, quarter_2, quarter_3, quarter_4, quarter_5, quarter_6, quarter_7, quarter_8, quarter_9, quarter_10, quarter_11, quarter_12, Acq_Net_Charge_Off__12, Acq_Insider_Loan__12, Acq_NIE__12, Acq_NII__12, Acq_NIM__12, Acq_ROA__12, Acq_AvgSalary__12, Acq_EmployNum__12, Acq_TtlSalary__12, Acq_Total_Assets__12, Acq_Net_Charge_Off__11, Acq_Insider_Loan__11, Acq_NIE__11, Acq_NII__11, Acq_NIM__11, Acq_ROA__11, Acq_AvgSalary__11, Acq_EmployNum__11, Acq_TtlSalary__11, Acq_Total_Assets__11, Acq_Net_Charge_Off__10, Acq_Insider_Loan__10, Acq_NIE__10, Acq_NII__10, Acq_NIM__10, Acq_ROA__10, Acq_AvgSalary__10, Acq_EmployNum__10, Acq_TtlSalary__10, Acq_Total_Assets__10, Acq_Net_Charge_Off__9, Acq_Insider_Loan__9, Acq_NIE__9, Acq_NII__9, Acq_NIM__9, Acq_ROA__9, Acq_AvgSalary__9, Acq_EmployNum__9, Acq_TtlSalary__9, Acq_Total_Assets__9, Acq_Net_Charge_Off__8, Acq_Insider_Loan__8, Acq_NIE__8, Acq_NII__8, Acq_NIM__8, Acq_ROA__8, Acq_AvgSalary__8, Acq_EmployNum__8, Acq_TtlSalary__8, Acq_Total_Assets__8, Acq_Net_Charge_Off__7, Acq_Insider_Loan__7, Acq_NIE__7, Acq_NII__7, Acq_NIM__7, Acq_ROA__7, Acq_AvgSalary__7, Acq_EmployNum__7, Acq_TtlSalary__7, Acq_Total_Assets__7, Acq_Net_Charge_Off__6, Acq_Insider_Loan__6, ...]\n",
       "Index: []\n",
       "\n",
       "[0 rows x 1466 columns]"
      ]
     },
     "execution_count": 4,
     "metadata": {},
     "output_type": "execute_result"
    }
   ],
   "source": [
    "for i in df_deal:\n",
    "    df_deal\n"
   ]
  },
  {
   "cell_type": "code",
   "execution_count": 8,
   "metadata": {},
   "outputs": [
    {
     "name": "stdout",
     "output_type": "stream",
     "text": [
      "0\n",
      "1\n",
      "2\n",
      "3\n",
      "4\n",
      "5\n",
      "6\n",
      "7\n",
      "8\n",
      "9\n"
     ]
    }
   ],
   "source": []
  },
  {
   "cell_type": "code",
   "execution_count": null,
   "metadata": {
    "collapsed": true
   },
   "outputs": [],
   "source": []
  }
 ],
 "metadata": {
  "kernelspec": {
   "display_name": "Python 2",
   "language": "python",
   "name": "python2"
  },
  "language_info": {
   "codemirror_mode": {
    "name": "ipython",
    "version": 2
   },
   "file_extension": ".py",
   "mimetype": "text/x-python",
   "name": "python",
   "nbconvert_exporter": "python",
   "pygments_lexer": "ipython2",
   "version": "2.7.13"
  }
 },
 "nbformat": 4,
 "nbformat_minor": 2
}
