{
 "cells": [
  {
   "cell_type": "code",
   "execution_count": 62,
   "metadata": {},
   "outputs": [
    {
     "name": "stdout",
     "output_type": "stream",
     "text": [
      "http://www.hkexnews.hk/newlistings/prospectuses/e_8005pro-20000125.pdf\n"
     ]
    }
   ],
   "source": [
    "from selenium import webdriver\n",
    "from selenium.webdriver.common.keys import Keys\n",
    "import urllib2\n",
    "import csv\n",
    "\n",
    "driver = webdriver.Firefox()\n",
    "driver.get(\"http://www.hkexnews.hk/listedco/listconews/advancedsearch/search_active_main.aspx\")\n",
    "\n",
    "def get_release_date(stock_number):\n",
    "    istock_code = driver.find_element_by_name(\"ctl00$txt_stock_code\")\n",
    "    istock_code.send_keys(stock_number)\n",
    "\n",
    "    irelease_date = driver.find_element_by_xpath(\"//*[@id='ctl00_sel_DateOfReleaseFrom_y']/option[text()='1999']\").click()\n",
    "\n",
    "    ikeyword = driver.find_element_by_name(\"ctl00$txtKeyWord\")\n",
    "    ikeyword.send_keys(\"prospectus\")\n",
    "\n",
    "    submit = driver.find_element_by_xpath('//*[@id=\"aspnetForm\"]/table/tbody/tr[7]/td[3]/label/a[1]/img').click()\n",
    "    driver.implicitly_wait(5)\n",
    "    assert \"No results found.\" not in driver.page_source\n",
    "\n",
    "    target_cell_text = driver.find_element_by_xpath('//*[@id=\"ctl00_gvMain\"]/tbody/tr/td/a/u[text()=\" Prospectus\"]/../../../td[1]/span').text\n",
    "    date = target_cell_text.split(\"\\n\",1)\n",
    "    return date[0]\n",
    "\n",
    "def date_to_url(date, stock_number, language):\n",
    "    stock_number = int(stock_number)\n",
    "    date  = date.split(\"/\",2)\n",
    "    tdate = ''.join(date[::-1])\n",
    "    base_url = 'http://www.hkexnews.hk/newlistings/prospectuses/'\n",
    "    url = base_url + language + '_' + str(stock_number) + 'pro-' + tdate + '.pdf'\n",
    "    return url\n",
    "    \n",
    "def read_csv():\n",
    "    with open('Project28_HK IPO data.csv', 'rb') as csvfile:\n",
    "    spamreader = csv.reader(csvfile, delimiter=' ', quotechar='|')\n",
    "    for row in spamreader:\n",
    "        print ', '.join(row)\n",
    "\n",
    "def main():\n",
    "    for i in range(len(soruce_file)):\n",
    "        url = date_to_url(get_release_date(stock_number), stock_number, 'e')\n",
    "        download_file(url)\n",
    "        driver.find_element_by_xpath('//*[@id=\"aspnetForm\"]/table[3]/tbody/tr[3]/td[1]/a/img').click()\n",
    "    print('Completed')\n",
    "    \n",
    "def download_file(download_url):\n",
    "    response = urllib2.urlopen(download_url)\n",
    "    file = open(\"document.pdf\", 'w')\n",
    "    file.write(response.read())\n",
    "    file.close()\n",
    "\n",
    "\n",
    "if __name__ == \"__main__\":\n",
    "    main()\n",
    "    \n",
    "\n",
    "\"\"\"date = get_release_date(111)\n",
    "date_to_url(date, \"08005\",\"e\")\"\"\"\n",
    "\n",
    "driver.quit()"
   ]
  },
  {
   "cell_type": "code",
   "execution_count": 14,
   "metadata": {},
   "outputs": [
    {
     "data": {
      "text/plain": [
       "<selenium.webdriver.firefox.webdriver.WebDriver (session=\"d256c942-78c4-c741-8ff2-89a0320a3edb\")>"
      ]
     },
     "execution_count": 14,
     "metadata": {},
     "output_type": "execute_result"
    }
   ],
   "source": []
  },
  {
   "cell_type": "code",
   "execution_count": null,
   "metadata": {
    "collapsed": true
   },
   "outputs": [],
   "source": []
  }
 ],
 "metadata": {
  "kernelspec": {
   "display_name": "Python 2",
   "language": "python",
   "name": "python2"
  },
  "language_info": {
   "codemirror_mode": {
    "name": "ipython",
    "version": 2
   },
   "file_extension": ".py",
   "mimetype": "text/x-python",
   "name": "python",
   "nbconvert_exporter": "python",
   "pygments_lexer": "ipython2",
   "version": "2.7.13"
  }
 },
 "nbformat": 4,
 "nbformat_minor": 2
}
